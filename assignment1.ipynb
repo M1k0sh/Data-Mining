{
 "cells": [
  {
   "cell_type": "code",
   "metadata": {
    "ExecuteTime": {
     "end_time": "2024-09-26T14:47:35.159790Z",
     "start_time": "2024-09-26T14:47:35.143647Z"
    }
   },
   "source": [
    "import pandas as pd\n",
    "\n"
   ],
   "outputs": [],
   "execution_count": 50
  },
  {
   "cell_type": "code",
   "metadata": {
    "ExecuteTime": {
     "end_time": "2024-09-26T14:47:35.223063Z",
     "start_time": "2024-09-26T14:47:35.177189Z"
    }
   },
   "source": "df = pd.read_csv('house_price.csv')\n",
   "outputs": [],
   "execution_count": 51
  },
  {
   "cell_type": "code",
   "metadata": {
    "ExecuteTime": {
     "end_time": "2024-09-26T14:47:35.428532Z",
     "start_time": "2024-09-26T14:47:35.400428Z"
    }
   },
   "source": [
    "print(df.head(3))"
   ],
   "outputs": [
    {
     "name": "stdout",
     "output_type": "stream",
     "text": [
      "   Square_Footage  Num_Bedrooms  Num_Bathrooms  Year_Built  Lot_Size  \\\n",
      "0            1360             2              1        1981  0.599637   \n",
      "1            4272             3              3        2016  4.753014   \n",
      "2            3592             1              2        2016  3.634823   \n",
      "\n",
      "   Garage_Size  Neighborhood_Quality    House_Price  \n",
      "0            0                     5  262382.852274  \n",
      "1            1                     6  985260.854490  \n",
      "2            0                     9  777977.390119  \n"
     ]
    }
   ],
   "execution_count": 52
  },
  {
   "cell_type": "code",
   "metadata": {
    "ExecuteTime": {
     "end_time": "2024-09-26T14:47:35.582553Z",
     "start_time": "2024-09-26T14:47:35.570550Z"
    }
   },
   "source": [
    "print(df.tail(3))"
   ],
   "outputs": [
    {
     "name": "stdout",
     "output_type": "stream",
     "text": [
      "     Square_Footage  Num_Bedrooms  Num_Bathrooms  Year_Built  Lot_Size  \\\n",
      "997            2606             4              2        1962  4.055067   \n",
      "998            4723             5              2        1950  1.930921   \n",
      "999            3268             4              2        1983  3.108790   \n",
      "\n",
      "     Garage_Size  Neighborhood_Quality    House_Price  \n",
      "997            0                     2  572024.023634  \n",
      "998            0                     7  964865.298639  \n",
      "999            2                     2  742599.253332  \n"
     ]
    }
   ],
   "execution_count": 53
  },
  {
   "cell_type": "code",
   "metadata": {
    "ExecuteTime": {
     "end_time": "2024-09-26T14:47:35.787085Z",
     "start_time": "2024-09-26T14:47:35.758594Z"
    }
   },
   "source": [
    "print(df.info())"
   ],
   "outputs": [
    {
     "name": "stdout",
     "output_type": "stream",
     "text": [
      "<class 'pandas.core.frame.DataFrame'>\n",
      "RangeIndex: 1000 entries, 0 to 999\n",
      "Data columns (total 8 columns):\n",
      " #   Column                Non-Null Count  Dtype  \n",
      "---  ------                --------------  -----  \n",
      " 0   Square_Footage        1000 non-null   int64  \n",
      " 1   Num_Bedrooms          1000 non-null   int64  \n",
      " 2   Num_Bathrooms         1000 non-null   int64  \n",
      " 3   Year_Built            1000 non-null   int64  \n",
      " 4   Lot_Size              1000 non-null   float64\n",
      " 5   Garage_Size           1000 non-null   int64  \n",
      " 6   Neighborhood_Quality  1000 non-null   int64  \n",
      " 7   House_Price           1000 non-null   float64\n",
      "dtypes: float64(2), int64(6)\n",
      "memory usage: 62.6 KB\n",
      "None\n"
     ]
    }
   ],
   "execution_count": 54
  },
  {
   "cell_type": "code",
   "metadata": {
    "ExecuteTime": {
     "end_time": "2024-09-26T14:47:35.990132Z",
     "start_time": "2024-09-26T14:47:35.961129Z"
    }
   },
   "source": [
    "print(df.isnull())"
   ],
   "outputs": [
    {
     "name": "stdout",
     "output_type": "stream",
     "text": [
      "     Square_Footage  Num_Bedrooms  Num_Bathrooms  Year_Built  Lot_Size  \\\n",
      "0             False         False          False       False     False   \n",
      "1             False         False          False       False     False   \n",
      "2             False         False          False       False     False   \n",
      "3             False         False          False       False     False   \n",
      "4             False         False          False       False     False   \n",
      "..              ...           ...            ...         ...       ...   \n",
      "995           False         False          False       False     False   \n",
      "996           False         False          False       False     False   \n",
      "997           False         False          False       False     False   \n",
      "998           False         False          False       False     False   \n",
      "999           False         False          False       False     False   \n",
      "\n",
      "     Garage_Size  Neighborhood_Quality  House_Price  \n",
      "0          False                 False        False  \n",
      "1          False                 False        False  \n",
      "2          False                 False        False  \n",
      "3          False                 False        False  \n",
      "4          False                 False        False  \n",
      "..           ...                   ...          ...  \n",
      "995        False                 False        False  \n",
      "996        False                 False        False  \n",
      "997        False                 False        False  \n",
      "998        False                 False        False  \n",
      "999        False                 False        False  \n",
      "\n",
      "[1000 rows x 8 columns]\n"
     ]
    }
   ],
   "execution_count": 55
  },
  {
   "cell_type": "code",
   "metadata": {
    "ExecuteTime": {
     "end_time": "2024-09-26T14:47:36.173551Z",
     "start_time": "2024-09-26T14:47:36.146171Z"
    }
   },
   "source": [
    "print(df.isnull().sum())"
   ],
   "outputs": [
    {
     "name": "stdout",
     "output_type": "stream",
     "text": [
      "Square_Footage          0\n",
      "Num_Bedrooms            0\n",
      "Num_Bathrooms           0\n",
      "Year_Built              0\n",
      "Lot_Size                0\n",
      "Garage_Size             0\n",
      "Neighborhood_Quality    0\n",
      "House_Price             0\n",
      "dtype: int64\n"
     ]
    }
   ],
   "execution_count": 56
  },
  {
   "cell_type": "code",
   "metadata": {
    "ExecuteTime": {
     "end_time": "2024-09-26T14:47:36.375091Z",
     "start_time": "2024-09-26T14:47:36.362107Z"
    }
   },
   "source": [
    "print(df.dtypes)"
   ],
   "outputs": [
    {
     "name": "stdout",
     "output_type": "stream",
     "text": [
      "Square_Footage            int64\n",
      "Num_Bedrooms              int64\n",
      "Num_Bathrooms             int64\n",
      "Year_Built                int64\n",
      "Lot_Size                float64\n",
      "Garage_Size               int64\n",
      "Neighborhood_Quality      int64\n",
      "House_Price             float64\n",
      "dtype: object\n"
     ]
    }
   ],
   "execution_count": 57
  },
  {
   "cell_type": "code",
   "metadata": {
    "ExecuteTime": {
     "end_time": "2024-09-26T14:47:36.639941Z",
     "start_time": "2024-09-26T14:47:36.537270Z"
    }
   },
   "source": [
    "df_fill_mean = df.fillna(df.mean(numeric_only=True))\n",
    "print(\"После заполнения средним значением:\\n\", df_fill_mean)"
   ],
   "outputs": [
    {
     "name": "stdout",
     "output_type": "stream",
     "text": [
      "После заполнения средним значением:\n",
      "      Square_Footage  Num_Bedrooms  Num_Bathrooms  Year_Built  Lot_Size  \\\n",
      "0              1360             2              1        1981  0.599637   \n",
      "1              4272             3              3        2016  4.753014   \n",
      "2              3592             1              2        2016  3.634823   \n",
      "3               966             1              2        1977  2.730667   \n",
      "4              4926             2              1        1993  4.699073   \n",
      "..              ...           ...            ...         ...       ...   \n",
      "995            3261             4              1        1978  2.165110   \n",
      "996            3179             1              2        1999  2.977123   \n",
      "997            2606             4              2        1962  4.055067   \n",
      "998            4723             5              2        1950  1.930921   \n",
      "999            3268             4              2        1983  3.108790   \n",
      "\n",
      "     Garage_Size  Neighborhood_Quality   House_Price  \n",
      "0              0                     5  2.623829e+05  \n",
      "1              1                     6  9.852609e+05  \n",
      "2              0                     9  7.779774e+05  \n",
      "3              1                     8  2.296989e+05  \n",
      "4              0                     8  1.041741e+06  \n",
      "..           ...                   ...           ...  \n",
      "995            2                    10  7.014940e+05  \n",
      "996            1                    10  6.837232e+05  \n",
      "997            0                     2  5.720240e+05  \n",
      "998            0                     7  9.648653e+05  \n",
      "999            2                     2  7.425993e+05  \n",
      "\n",
      "[1000 rows x 8 columns]\n"
     ]
    }
   ],
   "execution_count": 58
  },
  {
   "cell_type": "code",
   "metadata": {
    "ExecuteTime": {
     "end_time": "2024-09-26T14:47:36.855141Z",
     "start_time": "2024-09-26T14:47:36.828135Z"
    }
   },
   "source": [
    "df_fill_median = df.fillna(df.median(numeric_only=True))\n",
    "print(\"После заполнения средним значением:\\n\", df_fill_median)"
   ],
   "outputs": [
    {
     "name": "stdout",
     "output_type": "stream",
     "text": [
      "После заполнения средним значением:\n",
      "      Square_Footage  Num_Bedrooms  Num_Bathrooms  Year_Built  Lot_Size  \\\n",
      "0              1360             2              1        1981  0.599637   \n",
      "1              4272             3              3        2016  4.753014   \n",
      "2              3592             1              2        2016  3.634823   \n",
      "3               966             1              2        1977  2.730667   \n",
      "4              4926             2              1        1993  4.699073   \n",
      "..              ...           ...            ...         ...       ...   \n",
      "995            3261             4              1        1978  2.165110   \n",
      "996            3179             1              2        1999  2.977123   \n",
      "997            2606             4              2        1962  4.055067   \n",
      "998            4723             5              2        1950  1.930921   \n",
      "999            3268             4              2        1983  3.108790   \n",
      "\n",
      "     Garage_Size  Neighborhood_Quality   House_Price  \n",
      "0              0                     5  2.623829e+05  \n",
      "1              1                     6  9.852609e+05  \n",
      "2              0                     9  7.779774e+05  \n",
      "3              1                     8  2.296989e+05  \n",
      "4              0                     8  1.041741e+06  \n",
      "..           ...                   ...           ...  \n",
      "995            2                    10  7.014940e+05  \n",
      "996            1                    10  6.837232e+05  \n",
      "997            0                     2  5.720240e+05  \n",
      "998            0                     7  9.648653e+05  \n",
      "999            2                     2  7.425993e+05  \n",
      "\n",
      "[1000 rows x 8 columns]\n"
     ]
    }
   ],
   "execution_count": 59
  },
  {
   "cell_type": "code",
   "metadata": {
    "ExecuteTime": {
     "end_time": "2024-09-26T14:47:37.028032Z",
     "start_time": "2024-09-26T14:47:36.999Z"
    }
   },
   "source": [
    "data_ffill = df.ffill()\n",
    "print(\"После заполнения вперед:\\n\", data_ffill)"
   ],
   "outputs": [
    {
     "name": "stdout",
     "output_type": "stream",
     "text": [
      "После заполнения вперед:\n",
      "      Square_Footage  Num_Bedrooms  Num_Bathrooms  Year_Built  Lot_Size  \\\n",
      "0              1360             2              1        1981  0.599637   \n",
      "1              4272             3              3        2016  4.753014   \n",
      "2              3592             1              2        2016  3.634823   \n",
      "3               966             1              2        1977  2.730667   \n",
      "4              4926             2              1        1993  4.699073   \n",
      "..              ...           ...            ...         ...       ...   \n",
      "995            3261             4              1        1978  2.165110   \n",
      "996            3179             1              2        1999  2.977123   \n",
      "997            2606             4              2        1962  4.055067   \n",
      "998            4723             5              2        1950  1.930921   \n",
      "999            3268             4              2        1983  3.108790   \n",
      "\n",
      "     Garage_Size  Neighborhood_Quality   House_Price  \n",
      "0              0                     5  2.623829e+05  \n",
      "1              1                     6  9.852609e+05  \n",
      "2              0                     9  7.779774e+05  \n",
      "3              1                     8  2.296989e+05  \n",
      "4              0                     8  1.041741e+06  \n",
      "..           ...                   ...           ...  \n",
      "995            2                    10  7.014940e+05  \n",
      "996            1                    10  6.837232e+05  \n",
      "997            0                     2  5.720240e+05  \n",
      "998            0                     7  9.648653e+05  \n",
      "999            2                     2  7.425993e+05  \n",
      "\n",
      "[1000 rows x 8 columns]\n"
     ]
    }
   ],
   "execution_count": 60
  },
  {
   "cell_type": "code",
   "metadata": {
    "ExecuteTime": {
     "end_time": "2024-09-26T14:47:37.215688Z",
     "start_time": "2024-09-26T14:47:37.189212Z"
    }
   },
   "source": [
    "data_bfill = df.bfill()\n",
    "print(\"После заполнения назад:\\n\", data_bfill)"
   ],
   "outputs": [
    {
     "name": "stdout",
     "output_type": "stream",
     "text": [
      "После заполнения назад:\n",
      "      Square_Footage  Num_Bedrooms  Num_Bathrooms  Year_Built  Lot_Size  \\\n",
      "0              1360             2              1        1981  0.599637   \n",
      "1              4272             3              3        2016  4.753014   \n",
      "2              3592             1              2        2016  3.634823   \n",
      "3               966             1              2        1977  2.730667   \n",
      "4              4926             2              1        1993  4.699073   \n",
      "..              ...           ...            ...         ...       ...   \n",
      "995            3261             4              1        1978  2.165110   \n",
      "996            3179             1              2        1999  2.977123   \n",
      "997            2606             4              2        1962  4.055067   \n",
      "998            4723             5              2        1950  1.930921   \n",
      "999            3268             4              2        1983  3.108790   \n",
      "\n",
      "     Garage_Size  Neighborhood_Quality   House_Price  \n",
      "0              0                     5  2.623829e+05  \n",
      "1              1                     6  9.852609e+05  \n",
      "2              0                     9  7.779774e+05  \n",
      "3              1                     8  2.296989e+05  \n",
      "4              0                     8  1.041741e+06  \n",
      "..           ...                   ...           ...  \n",
      "995            2                    10  7.014940e+05  \n",
      "996            1                    10  6.837232e+05  \n",
      "997            0                     2  5.720240e+05  \n",
      "998            0                     7  9.648653e+05  \n",
      "999            2                     2  7.425993e+05  \n",
      "\n",
      "[1000 rows x 8 columns]\n"
     ]
    }
   ],
   "execution_count": 61
  },
  {
   "cell_type": "code",
   "metadata": {
    "ExecuteTime": {
     "end_time": "2024-09-26T14:47:37.610741Z",
     "start_time": "2024-09-26T14:47:37.581680Z"
    }
   },
   "source": [
    "from sklearn.preprocessing import MinMaxScaler\n",
    "\n",
    "scaler = MinMaxScaler()\n",
    "df[['Square_Footage', 'Lot_Size', 'Garage_Size', 'House_Price']] = scaler.fit_transform(\n",
    "    df[['Square_Footage', 'Lot_Size', 'Garage_Size', 'House_Price']]\n",
    ")\n",
    "print(\"DataFrame after Min-Max Scaling:\")\n",
    "print(df.head())\n"
   ],
   "outputs": [
    {
     "name": "stdout",
     "output_type": "stream",
     "text": [
      "DataFrame after Min-Max Scaling:\n",
      "   Square_Footage  Num_Bedrooms  Num_Bathrooms  Year_Built  Lot_Size  \\\n",
      "0        0.190614             2              1        1981  0.020873   \n",
      "1        0.838301             3              3        2016  0.947295   \n",
      "2        0.687055             1              2        2016  0.697880   \n",
      "3        0.102980             1              2        1977  0.496205   \n",
      "4        0.983763             2              1        1993  0.935263   \n",
      "\n",
      "   Garage_Size  Neighborhood_Quality  House_Price  \n",
      "0          0.0                     5     0.151269  \n",
      "1          0.5                     6     0.876606  \n",
      "2          0.0                     9     0.668617  \n",
      "3          0.5                     8     0.118474  \n",
      "4          0.0                     8     0.933278  \n"
     ]
    }
   ],
   "execution_count": 62
  },
  {
   "cell_type": "code",
   "metadata": {
    "ExecuteTime": {
     "end_time": "2024-09-26T14:47:37.689759Z",
     "start_time": "2024-09-26T14:47:37.649733Z"
    }
   },
   "source": [
    "from sklearn.preprocessing import StandardScaler\n",
    "\n",
    "scaler = StandardScaler()\n",
    "df[['Square_Footage', 'Lot_Size', 'Garage_Size', 'House_Price']] = scaler.fit_transform(\n",
    "    df[['Square_Footage', 'Lot_Size', 'Garage_Size', 'House_Price']]\n",
    ")\n",
    "print(\"DataFrame after Z-Score Standardization:\")\n",
    "print(df.head())\n"
   ],
   "outputs": [
    {
     "name": "stdout",
     "output_type": "stream",
     "text": [
      "DataFrame after Z-Score Standardization:\n",
      "   Square_Footage  Num_Bedrooms  Num_Bathrooms  Year_Built  Lot_Size  \\\n",
      "0       -1.159803             2              1        1981 -1.679278   \n",
      "1        1.160724             3              3        2016  1.522390   \n",
      "2        0.618843             1              2        2016  0.660422   \n",
      "3       -1.473776             1              2        1977 -0.036555   \n",
      "4        1.681887             2              1        1993  1.480809   \n",
      "\n",
      "   Garage_Size  Neighborhood_Quality  House_Price  \n",
      "0    -1.254658                     5    -1.406552  \n",
      "1    -0.027008                     6     1.445699  \n",
      "2    -1.254658                     9     0.627824  \n",
      "3    -0.027008                     8    -1.535512  \n",
      "4    -1.254658                     8     1.668552  \n"
     ]
    }
   ],
   "execution_count": 63
  },
  {
   "cell_type": "code",
   "metadata": {
    "ExecuteTime": {
     "end_time": "2024-09-26T14:47:37.893483Z",
     "start_time": "2024-09-26T14:47:37.864461Z"
    }
   },
   "source": [
    "df_encoded = pd.get_dummies(df, columns=['Neighborhood_Quality'], drop_first=True)\n",
    "print(\"DataFrame after One-Hot Encoding:\")\n",
    "print(df_encoded.head())\n"
   ],
   "outputs": [
    {
     "name": "stdout",
     "output_type": "stream",
     "text": [
      "DataFrame after One-Hot Encoding:\n",
      "   Square_Footage  Num_Bedrooms  Num_Bathrooms  Year_Built  Lot_Size  \\\n",
      "0       -1.159803             2              1        1981 -1.679278   \n",
      "1        1.160724             3              3        2016  1.522390   \n",
      "2        0.618843             1              2        2016  0.660422   \n",
      "3       -1.473776             1              2        1977 -0.036555   \n",
      "4        1.681887             2              1        1993  1.480809   \n",
      "\n",
      "   Garage_Size  House_Price  Neighborhood_Quality_2  Neighborhood_Quality_3  \\\n",
      "0    -1.254658    -1.406552                       0                       0   \n",
      "1    -0.027008     1.445699                       0                       0   \n",
      "2    -1.254658     0.627824                       0                       0   \n",
      "3    -0.027008    -1.535512                       0                       0   \n",
      "4    -1.254658     1.668552                       0                       0   \n",
      "\n",
      "   Neighborhood_Quality_4  Neighborhood_Quality_5  Neighborhood_Quality_6  \\\n",
      "0                       0                       1                       0   \n",
      "1                       0                       0                       1   \n",
      "2                       0                       0                       0   \n",
      "3                       0                       0                       0   \n",
      "4                       0                       0                       0   \n",
      "\n",
      "   Neighborhood_Quality_7  Neighborhood_Quality_8  Neighborhood_Quality_9  \\\n",
      "0                       0                       0                       0   \n",
      "1                       0                       0                       0   \n",
      "2                       0                       0                       1   \n",
      "3                       0                       1                       0   \n",
      "4                       0                       1                       0   \n",
      "\n",
      "   Neighborhood_Quality_10  \n",
      "0                        0  \n",
      "1                        0  \n",
      "2                        0  \n",
      "3                        0  \n",
      "4                        0  \n"
     ]
    }
   ],
   "execution_count": 64
  },
  {
   "cell_type": "code",
   "metadata": {
    "ExecuteTime": {
     "end_time": "2024-09-26T14:47:38.131631Z",
     "start_time": "2024-09-26T14:47:38.088622Z"
    }
   },
   "source": [
    "df['House_Price_Binned'] = pd.cut(df['House_Price'], bins=[0, 200000, 400000, 600000, float('inf')],\n",
    "                                  labels=['Low', 'Medium', 'High', 'Very High'])\n",
    "print(\"DataFrame after Binning House_Price:\")\n",
    "print(df.head())\n"
   ],
   "outputs": [
    {
     "name": "stdout",
     "output_type": "stream",
     "text": [
      "DataFrame after Binning House_Price:\n",
      "   Square_Footage  Num_Bedrooms  Num_Bathrooms  Year_Built  Lot_Size  \\\n",
      "0       -1.159803             2              1        1981 -1.679278   \n",
      "1        1.160724             3              3        2016  1.522390   \n",
      "2        0.618843             1              2        2016  0.660422   \n",
      "3       -1.473776             1              2        1977 -0.036555   \n",
      "4        1.681887             2              1        1993  1.480809   \n",
      "\n",
      "   Garage_Size  Neighborhood_Quality  House_Price House_Price_Binned  \n",
      "0    -1.254658                     5    -1.406552                NaN  \n",
      "1    -0.027008                     6     1.445699                Low  \n",
      "2    -1.254658                     9     0.627824                Low  \n",
      "3    -0.027008                     8    -1.535512                NaN  \n",
      "4    -1.254658                     8     1.668552                Low  \n"
     ]
    }
   ],
   "execution_count": 65
  },
  {
   "cell_type": "code",
   "metadata": {
    "ExecuteTime": {
     "end_time": "2024-09-26T14:47:38.336993Z",
     "start_time": "2024-09-26T14:47:38.310550Z"
    }
   },
   "source": [
    "df['Square_Footage_Garage_Interaction'] = df['Square_Footage'] * df['Garage_Size']\n",
    "print(\"DataFrame with Interaction Feature:\")\n",
    "print(df.head())\n"
   ],
   "outputs": [
    {
     "name": "stdout",
     "output_type": "stream",
     "text": [
      "DataFrame with Interaction Feature:\n",
      "   Square_Footage  Num_Bedrooms  Num_Bathrooms  Year_Built  Lot_Size  \\\n",
      "0       -1.159803             2              1        1981 -1.679278   \n",
      "1        1.160724             3              3        2016  1.522390   \n",
      "2        0.618843             1              2        2016  0.660422   \n",
      "3       -1.473776             1              2        1977 -0.036555   \n",
      "4        1.681887             2              1        1993  1.480809   \n",
      "\n",
      "   Garage_Size  Neighborhood_Quality  House_Price House_Price_Binned  \\\n",
      "0    -1.254658                     5    -1.406552                NaN   \n",
      "1    -0.027008                     6     1.445699                Low   \n",
      "2    -1.254658                     9     0.627824                Low   \n",
      "3    -0.027008                     8    -1.535512                NaN   \n",
      "4    -1.254658                     8     1.668552                Low   \n",
      "\n",
      "   Square_Footage_Garage_Interaction  \n",
      "0                           1.455156  \n",
      "1                          -0.031349  \n",
      "2                          -0.776436  \n",
      "3                           0.039804  \n",
      "4                          -2.110192  \n"
     ]
    }
   ],
   "execution_count": 66
  },
  {
   "cell_type": "code",
   "metadata": {
    "ExecuteTime": {
     "end_time": "2024-09-26T14:47:38.512502Z",
     "start_time": "2024-09-26T14:47:38.483496Z"
    }
   },
   "source": [
    "# Convert Year_Built to datetime (if applicable, here it's already an integer)\n",
    "df['Year_Built'] = pd.to_datetime(df['Year_Built'], format='%Y', errors='coerce')\n",
    "df['Year'] = df['Year_Built'].dt.year\n",
    "df['Month'] = df['Year_Built'].dt.month\n",
    "print(\"DataFrame with Date-Based Features:\")\n",
    "print(df.head())\n"
   ],
   "outputs": [
    {
     "name": "stdout",
     "output_type": "stream",
     "text": [
      "DataFrame with Date-Based Features:\n",
      "   Square_Footage  Num_Bedrooms  Num_Bathrooms Year_Built  Lot_Size  \\\n",
      "0       -1.159803             2              1 1981-01-01 -1.679278   \n",
      "1        1.160724             3              3 2016-01-01  1.522390   \n",
      "2        0.618843             1              2 2016-01-01  0.660422   \n",
      "3       -1.473776             1              2 1977-01-01 -0.036555   \n",
      "4        1.681887             2              1 1993-01-01  1.480809   \n",
      "\n",
      "   Garage_Size  Neighborhood_Quality  House_Price House_Price_Binned  \\\n",
      "0    -1.254658                     5    -1.406552                NaN   \n",
      "1    -0.027008                     6     1.445699                Low   \n",
      "2    -1.254658                     9     0.627824                Low   \n",
      "3    -0.027008                     8    -1.535512                NaN   \n",
      "4    -1.254658                     8     1.668552                Low   \n",
      "\n",
      "   Square_Footage_Garage_Interaction  Year  Month  \n",
      "0                           1.455156  1981      1  \n",
      "1                          -0.031349  2016      1  \n",
      "2                          -0.776436  2016      1  \n",
      "3                           0.039804  1977      1  \n",
      "4                          -2.110192  1993      1  \n"
     ]
    }
   ],
   "execution_count": 67
  },
  {
   "cell_type": "code",
   "metadata": {
    "ExecuteTime": {
     "end_time": "2024-09-26T14:47:38.715773Z",
     "start_time": "2024-09-26T14:47:38.690580Z"
    }
   },
   "source": [
    "df_cleaned = df.drop_duplicates()\n",
    "print(\"DataFrame after Removing Duplicates:\")\n",
    "print(df_cleaned.head())\n"
   ],
   "outputs": [
    {
     "name": "stdout",
     "output_type": "stream",
     "text": [
      "DataFrame after Removing Duplicates:\n",
      "   Square_Footage  Num_Bedrooms  Num_Bathrooms Year_Built  Lot_Size  \\\n",
      "0       -1.159803             2              1 1981-01-01 -1.679278   \n",
      "1        1.160724             3              3 2016-01-01  1.522390   \n",
      "2        0.618843             1              2 2016-01-01  0.660422   \n",
      "3       -1.473776             1              2 1977-01-01 -0.036555   \n",
      "4        1.681887             2              1 1993-01-01  1.480809   \n",
      "\n",
      "   Garage_Size  Neighborhood_Quality  House_Price House_Price_Binned  \\\n",
      "0    -1.254658                     5    -1.406552                NaN   \n",
      "1    -0.027008                     6     1.445699                Low   \n",
      "2    -1.254658                     9     0.627824                Low   \n",
      "3    -0.027008                     8    -1.535512                NaN   \n",
      "4    -1.254658                     8     1.668552                Low   \n",
      "\n",
      "   Square_Footage_Garage_Interaction  Year  Month  \n",
      "0                           1.455156  1981      1  \n",
      "1                          -0.031349  2016      1  \n",
      "2                          -0.776436  2016      1  \n",
      "3                           0.039804  1977      1  \n",
      "4                          -2.110192  1993      1  \n"
     ]
    }
   ],
   "execution_count": 68
  },
  {
   "cell_type": "code",
   "metadata": {
    "ExecuteTime": {
     "end_time": "2024-09-26T14:47:38.872448Z",
     "start_time": "2024-09-26T14:47:38.843804Z"
    }
   },
   "source": [
    "from scipy.stats import zscore\n",
    "\n",
    "# Calculate Z-scores for each feature and assign them to separate columns\n",
    "z_scores = pd.DataFrame(zscore(df[['Square_Footage', 'Lot_Size', 'Garage_Size', 'House_Price']]), \n",
    "                        columns=['Square_Footage_z', 'Lot_Size_z', 'Garage_Size_z', 'House_Price_z'])\n",
    "\n",
    "# Concatenate the Z-scores with the original DataFrame\n",
    "df = pd.concat([df, z_scores], axis=1)\n",
    "\n",
    "# Identify outliers based on Z-scores\n",
    "outliers = df[(df[['Square_Footage_z', 'Lot_Size_z', 'Garage_Size_z', 'House_Price_z']].abs() > 3).any(axis=1)]\n",
    "\n",
    "print(\"Outliers detected using Z-Score:\")\n",
    "print(outliers)\n",
    "\n",
    "# Remove outliers\n",
    "df_no_outliers = df[(df[['Square_Footage_z', 'Lot_Size_z', 'Garage_Size_z', 'House_Price_z']].abs() <= 3).all(axis=1)]\n",
    "print(\"DataFrame after Removing Outliers:\")\n",
    "print(df_no_outliers.head())\n"
   ],
   "outputs": [
    {
     "name": "stdout",
     "output_type": "stream",
     "text": [
      "Outliers detected using Z-Score:\n",
      "Empty DataFrame\n",
      "Columns: [Square_Footage, Num_Bedrooms, Num_Bathrooms, Year_Built, Lot_Size, Garage_Size, Neighborhood_Quality, House_Price, House_Price_Binned, Square_Footage_Garage_Interaction, Year, Month, Square_Footage_z, Lot_Size_z, Garage_Size_z, House_Price_z]\n",
      "Index: []\n",
      "DataFrame after Removing Outliers:\n",
      "Empty DataFrame\n",
      "Columns: [Square_Footage, Num_Bedrooms, Num_Bathrooms, Year_Built, Lot_Size, Garage_Size, Neighborhood_Quality, House_Price, House_Price_Binned, Square_Footage_Garage_Interaction, Year, Month, Square_Footage_z, Lot_Size_z, Garage_Size_z, House_Price_z]\n",
      "Index: []\n"
     ]
    }
   ],
   "execution_count": 69
  },
  {
   "cell_type": "code",
   "metadata": {
    "ExecuteTime": {
     "end_time": "2024-09-26T14:47:39.076160Z",
     "start_time": "2024-09-26T14:47:39.035152Z"
    }
   },
   "source": [
    "from sklearn.model_selection import train_test_split\n",
    "\n",
    "# Assuming 'House_Price' is the target variable\n",
    "X = df.drop('House_Price', axis=1)\n",
    "y = df['House_Price']\n",
    "\n",
    "X_train, X_test, y_train, y_test = train_test_split(X, y, test_size=0.2, random_state=42)\n",
    "print(\"Training set size:\", X_train.shape)\n",
    "print(\"Testing set size:\", X_test.shape)\n"
   ],
   "outputs": [
    {
     "name": "stdout",
     "output_type": "stream",
     "text": [
      "Training set size: (800, 15)\n",
      "Testing set size: (200, 15)\n"
     ]
    }
   ],
   "execution_count": 70
  },
  {
   "cell_type": "code",
   "metadata": {
    "ExecuteTime": {
     "end_time": "2024-09-26T14:47:39.246429Z",
     "start_time": "2024-09-26T14:47:39.235428Z"
    }
   },
   "source": [
    "# Convert categorical features to object type\n",
    "df['Neighborhood_Quality'] = df['Neighborhood_Quality'].astype('object')\n"
   ],
   "outputs": [],
   "execution_count": 71
  },
  {
   "cell_type": "code",
   "metadata": {
    "ExecuteTime": {
     "end_time": "2024-09-26T14:47:39.899581Z",
     "start_time": "2024-09-26T14:47:39.393387Z"
    }
   },
   "source": [
    "from sklearn.pipeline import Pipeline\n",
    "from sklearn.compose import ColumnTransformer\n",
    "from sklearn.impute import SimpleImputer\n",
    "from sklearn.preprocessing import StandardScaler, OneHotEncoder\n",
    "from sklearn.ensemble import RandomForestRegressor\n",
    "from sklearn.model_selection import train_test_split\n",
    "\n",
    "# Define the preprocessing steps\n",
    "numeric_features = ['Square_Footage', 'Lot_Size', 'Garage_Size']\n",
    "categorical_features = ['Neighborhood_Quality']\n",
    "\n",
    "numeric_transformer = Pipeline(steps=[\n",
    "    ('imputer', SimpleImputer(strategy='median')),\n",
    "    ('scaler', StandardScaler())\n",
    "])\n",
    "\n",
    "categorical_transformer = Pipeline(steps=[\n",
    "    ('imputer', SimpleImputer(strategy='constant', fill_value='missing')),\n",
    "    ('onehot', OneHotEncoder(handle_unknown='ignore'))\n",
    "])\n",
    "\n",
    "preprocessor = ColumnTransformer(\n",
    "    transformers=[\n",
    "        ('num', numeric_transformer, numeric_features),\n",
    "        ('cat', categorical_transformer, categorical_features)\n",
    "    ])\n",
    "\n",
    "# Integrate with a model\n",
    "model = Pipeline(steps=[('preprocessor', preprocessor),\n",
    "                         ('regressor', RandomForestRegressor())])\n",
    "\n",
    "# Prepare the data\n",
    "X = df.drop('House_Price', axis=1)\n",
    "y = df['House_Price']\n",
    "\n",
    "X_train, X_test, y_train, y_test = train_test_split(X, y, test_size=0.2, random_state=42)\n",
    "\n",
    "# Fit the model\n",
    "model.fit(X_train, y_train)\n",
    "\n",
    "# Predict\n",
    "y_pred = model.predict(X_test)\n",
    "print(\"Predictions on the test set:\")\n",
    "print(y_pred[:5])  # Print the first few predictions\n",
    "print(y_test[:5])\n",
    "\n"
   ],
   "outputs": [
    {
     "name": "stdout",
     "output_type": "stream",
     "text": [
      "Predictions on the test set:\n",
      "[ 0.86649853 -0.43357678  1.3657045   1.83477132  0.76282819]\n",
      "521    1.113234\n",
      "737   -0.490542\n",
      "740    1.304220\n",
      "660    1.663218\n",
      "411    0.691083\n",
      "Name: House_Price, dtype: float64\n"
     ]
    }
   ],
   "execution_count": 72
  }
 ],
 "metadata": {
  "kernelspec": {
   "display_name": "Python 3",
   "language": "python",
   "name": "python3"
  },
  "language_info": {
   "codemirror_mode": {
    "name": "ipython",
    "version": 3
   },
   "file_extension": ".py",
   "mimetype": "text/x-python",
   "name": "python",
   "nbconvert_exporter": "python",
   "pygments_lexer": "ipython3",
   "version": "3.12.4"
  }
 },
 "nbformat": 4,
 "nbformat_minor": 2
}
